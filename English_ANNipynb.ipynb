{
  "nbformat": 4,
  "nbformat_minor": 0,
  "metadata": {
    "colab": {
      "provenance": [],
      "gpuType": "T4"
    },
    "kernelspec": {
      "name": "python3",
      "display_name": "Python 3"
    },
    "language_info": {
      "name": "python"
    },
    "accelerator": "GPU"
  },
  "cells": [
    {
      "cell_type": "code",
      "source": [
        "import os\n",
        "os.environ['KAGGLE_CONFIG_DIR']='/content'"
      ],
      "metadata": {
        "id": "G-7hqdRelo4u"
      },
      "execution_count": 1,
      "outputs": []
    },
    {
      "cell_type": "code",
      "source": [
        "!kaggle datasets download -d sachinpatel21/az-handwritten-alphabets-in-csv-format"
      ],
      "metadata": {
        "colab": {
          "base_uri": "https://localhost:8080/"
        },
        "id": "yO4gncIjmFC8",
        "outputId": "c0ccfac0-68fb-4e91-b74e-a2a57b1bfb7f"
      },
      "execution_count": 2,
      "outputs": [
        {
          "output_type": "stream",
          "name": "stdout",
          "text": [
            "Warning: Your Kaggle API key is readable by other users on this system! To fix this, you can run 'chmod 600 /content/kaggle.json'\n",
            "Downloading az-handwritten-alphabets-in-csv-format.zip to /content\n",
            " 92% 169M/185M [00:03<00:00, 77.8MB/s]\n",
            "100% 185M/185M [00:03<00:00, 50.2MB/s]\n"
          ]
        }
      ]
    },
    {
      "cell_type": "code",
      "source": [
        "!unzip -o az-handwritten-alphabets-in-csv-format.zip\n"
      ],
      "metadata": {
        "colab": {
          "base_uri": "https://localhost:8080/"
        },
        "id": "35QUh8L1mxQF",
        "outputId": "593cf18c-e4d1-4455-883b-af9093890fd2"
      },
      "execution_count": 3,
      "outputs": [
        {
          "output_type": "stream",
          "name": "stdout",
          "text": [
            "Archive:  az-handwritten-alphabets-in-csv-format.zip\n",
            "  inflating: A_Z Handwritten Data.csv  \n",
            "  inflating: A_Z Handwritten Data/A_Z Handwritten Data.csv  \n"
          ]
        }
      ]
    },
    {
      "cell_type": "code",
      "execution_count": 4,
      "metadata": {
        "id": "Pms6WW1VXuUQ"
      },
      "outputs": [],
      "source": [
        "import numpy as np\n",
        "import pandas as pd\n",
        "import matplotlib.pyplot as plt\n",
        "import cv2\n",
        "from sklearn.model_selection import train_test_split\n",
        "from sklearn.utils import shuffle\n",
        "from keras.models import Sequential\n",
        "from keras.layers import Dense, Flatten, Conv2D, MaxPool2D, Dropout\n",
        "from keras.optimizers import SGD, Adam\n",
        "from tensorflow.keras.optimizers import SGD\n",
        "from keras import optimizers\n",
        "from keras.callbacks import ReduceLROnPlateau, EarlyStopping\n",
        "\n"
      ]
    },
    {
      "cell_type": "markdown",
      "source": [
        "Read dataset"
      ],
      "metadata": {
        "id": "6qDDjNjOYNul"
      }
    },
    {
      "cell_type": "code",
      "source": [
        "df = pd.read_csv('/content/A_Z Handwritten Data/A_Z Handwritten Data.csv').astype('float32')\n",
        "df"
      ],
      "metadata": {
        "colab": {
          "base_uri": "https://localhost:8080/",
          "height": 424
        },
        "id": "gy85jaHbX9jn",
        "outputId": "7284aa6b-0e81-4d5b-f373-fafaedc52d18"
      },
      "execution_count": 5,
      "outputs": [
        {
          "output_type": "execute_result",
          "data": {
            "text/plain": [
              "           0  0.1  0.2  0.3  0.4  0.5  0.6  0.7  0.8  0.9  ...  0.639  0.640  \\\n",
              "0        0.0  0.0  0.0  0.0  0.0  0.0  0.0  0.0  0.0  0.0  ...    0.0    0.0   \n",
              "1        0.0  0.0  0.0  0.0  0.0  0.0  0.0  0.0  0.0  0.0  ...    0.0    0.0   \n",
              "2        0.0  0.0  0.0  0.0  0.0  0.0  0.0  0.0  0.0  0.0  ...    0.0    0.0   \n",
              "3        0.0  0.0  0.0  0.0  0.0  0.0  0.0  0.0  0.0  0.0  ...    0.0    0.0   \n",
              "4        0.0  0.0  0.0  0.0  0.0  0.0  0.0  0.0  0.0  0.0  ...    0.0    0.0   \n",
              "...      ...  ...  ...  ...  ...  ...  ...  ...  ...  ...  ...    ...    ...   \n",
              "372445  25.0  0.0  0.0  0.0  0.0  0.0  0.0  0.0  0.0  0.0  ...    0.0    0.0   \n",
              "372446  25.0  0.0  0.0  0.0  0.0  0.0  0.0  0.0  0.0  0.0  ...    0.0    0.0   \n",
              "372447  25.0  0.0  0.0  0.0  0.0  0.0  0.0  0.0  0.0  0.0  ...    0.0    0.0   \n",
              "372448  25.0  0.0  0.0  0.0  0.0  0.0  0.0  0.0  0.0  0.0  ...    0.0    0.0   \n",
              "372449  25.0  0.0  0.0  0.0  0.0  0.0  0.0  0.0  0.0  0.0  ...    0.0    0.0   \n",
              "\n",
              "        0.641  0.642  0.643  0.644  0.645  0.646  0.647  0.648  \n",
              "0         0.0    0.0    0.0    0.0    0.0    0.0    0.0    0.0  \n",
              "1         0.0    0.0    0.0    0.0    0.0    0.0    0.0    0.0  \n",
              "2         0.0    0.0    0.0    0.0    0.0    0.0    0.0    0.0  \n",
              "3         0.0    0.0    0.0    0.0    0.0    0.0    0.0    0.0  \n",
              "4         0.0    0.0    0.0    0.0    0.0    0.0    0.0    0.0  \n",
              "...       ...    ...    ...    ...    ...    ...    ...    ...  \n",
              "372445    0.0    0.0    0.0    0.0    0.0    0.0    0.0    0.0  \n",
              "372446    0.0    0.0    0.0    0.0    0.0    0.0    0.0    0.0  \n",
              "372447    0.0    0.0    0.0    0.0    0.0    0.0    0.0    0.0  \n",
              "372448    0.0    0.0    0.0    0.0    0.0    0.0    0.0    0.0  \n",
              "372449    0.0    0.0    0.0    0.0    0.0    0.0    0.0    0.0  \n",
              "\n",
              "[372450 rows x 785 columns]"
            ],
            "text/html": [
              "\n",
              "  <div id=\"df-38173a9a-9500-4a3b-bc09-f3610ff35e31\" class=\"colab-df-container\">\n",
              "    <div>\n",
              "<style scoped>\n",
              "    .dataframe tbody tr th:only-of-type {\n",
              "        vertical-align: middle;\n",
              "    }\n",
              "\n",
              "    .dataframe tbody tr th {\n",
              "        vertical-align: top;\n",
              "    }\n",
              "\n",
              "    .dataframe thead th {\n",
              "        text-align: right;\n",
              "    }\n",
              "</style>\n",
              "<table border=\"1\" class=\"dataframe\">\n",
              "  <thead>\n",
              "    <tr style=\"text-align: right;\">\n",
              "      <th></th>\n",
              "      <th>0</th>\n",
              "      <th>0.1</th>\n",
              "      <th>0.2</th>\n",
              "      <th>0.3</th>\n",
              "      <th>0.4</th>\n",
              "      <th>0.5</th>\n",
              "      <th>0.6</th>\n",
              "      <th>0.7</th>\n",
              "      <th>0.8</th>\n",
              "      <th>0.9</th>\n",
              "      <th>...</th>\n",
              "      <th>0.639</th>\n",
              "      <th>0.640</th>\n",
              "      <th>0.641</th>\n",
              "      <th>0.642</th>\n",
              "      <th>0.643</th>\n",
              "      <th>0.644</th>\n",
              "      <th>0.645</th>\n",
              "      <th>0.646</th>\n",
              "      <th>0.647</th>\n",
              "      <th>0.648</th>\n",
              "    </tr>\n",
              "  </thead>\n",
              "  <tbody>\n",
              "    <tr>\n",
              "      <th>0</th>\n",
              "      <td>0.0</td>\n",
              "      <td>0.0</td>\n",
              "      <td>0.0</td>\n",
              "      <td>0.0</td>\n",
              "      <td>0.0</td>\n",
              "      <td>0.0</td>\n",
              "      <td>0.0</td>\n",
              "      <td>0.0</td>\n",
              "      <td>0.0</td>\n",
              "      <td>0.0</td>\n",
              "      <td>...</td>\n",
              "      <td>0.0</td>\n",
              "      <td>0.0</td>\n",
              "      <td>0.0</td>\n",
              "      <td>0.0</td>\n",
              "      <td>0.0</td>\n",
              "      <td>0.0</td>\n",
              "      <td>0.0</td>\n",
              "      <td>0.0</td>\n",
              "      <td>0.0</td>\n",
              "      <td>0.0</td>\n",
              "    </tr>\n",
              "    <tr>\n",
              "      <th>1</th>\n",
              "      <td>0.0</td>\n",
              "      <td>0.0</td>\n",
              "      <td>0.0</td>\n",
              "      <td>0.0</td>\n",
              "      <td>0.0</td>\n",
              "      <td>0.0</td>\n",
              "      <td>0.0</td>\n",
              "      <td>0.0</td>\n",
              "      <td>0.0</td>\n",
              "      <td>0.0</td>\n",
              "      <td>...</td>\n",
              "      <td>0.0</td>\n",
              "      <td>0.0</td>\n",
              "      <td>0.0</td>\n",
              "      <td>0.0</td>\n",
              "      <td>0.0</td>\n",
              "      <td>0.0</td>\n",
              "      <td>0.0</td>\n",
              "      <td>0.0</td>\n",
              "      <td>0.0</td>\n",
              "      <td>0.0</td>\n",
              "    </tr>\n",
              "    <tr>\n",
              "      <th>2</th>\n",
              "      <td>0.0</td>\n",
              "      <td>0.0</td>\n",
              "      <td>0.0</td>\n",
              "      <td>0.0</td>\n",
              "      <td>0.0</td>\n",
              "      <td>0.0</td>\n",
              "      <td>0.0</td>\n",
              "      <td>0.0</td>\n",
              "      <td>0.0</td>\n",
              "      <td>0.0</td>\n",
              "      <td>...</td>\n",
              "      <td>0.0</td>\n",
              "      <td>0.0</td>\n",
              "      <td>0.0</td>\n",
              "      <td>0.0</td>\n",
              "      <td>0.0</td>\n",
              "      <td>0.0</td>\n",
              "      <td>0.0</td>\n",
              "      <td>0.0</td>\n",
              "      <td>0.0</td>\n",
              "      <td>0.0</td>\n",
              "    </tr>\n",
              "    <tr>\n",
              "      <th>3</th>\n",
              "      <td>0.0</td>\n",
              "      <td>0.0</td>\n",
              "      <td>0.0</td>\n",
              "      <td>0.0</td>\n",
              "      <td>0.0</td>\n",
              "      <td>0.0</td>\n",
              "      <td>0.0</td>\n",
              "      <td>0.0</td>\n",
              "      <td>0.0</td>\n",
              "      <td>0.0</td>\n",
              "      <td>...</td>\n",
              "      <td>0.0</td>\n",
              "      <td>0.0</td>\n",
              "      <td>0.0</td>\n",
              "      <td>0.0</td>\n",
              "      <td>0.0</td>\n",
              "      <td>0.0</td>\n",
              "      <td>0.0</td>\n",
              "      <td>0.0</td>\n",
              "      <td>0.0</td>\n",
              "      <td>0.0</td>\n",
              "    </tr>\n",
              "    <tr>\n",
              "      <th>4</th>\n",
              "      <td>0.0</td>\n",
              "      <td>0.0</td>\n",
              "      <td>0.0</td>\n",
              "      <td>0.0</td>\n",
              "      <td>0.0</td>\n",
              "      <td>0.0</td>\n",
              "      <td>0.0</td>\n",
              "      <td>0.0</td>\n",
              "      <td>0.0</td>\n",
              "      <td>0.0</td>\n",
              "      <td>...</td>\n",
              "      <td>0.0</td>\n",
              "      <td>0.0</td>\n",
              "      <td>0.0</td>\n",
              "      <td>0.0</td>\n",
              "      <td>0.0</td>\n",
              "      <td>0.0</td>\n",
              "      <td>0.0</td>\n",
              "      <td>0.0</td>\n",
              "      <td>0.0</td>\n",
              "      <td>0.0</td>\n",
              "    </tr>\n",
              "    <tr>\n",
              "      <th>...</th>\n",
              "      <td>...</td>\n",
              "      <td>...</td>\n",
              "      <td>...</td>\n",
              "      <td>...</td>\n",
              "      <td>...</td>\n",
              "      <td>...</td>\n",
              "      <td>...</td>\n",
              "      <td>...</td>\n",
              "      <td>...</td>\n",
              "      <td>...</td>\n",
              "      <td>...</td>\n",
              "      <td>...</td>\n",
              "      <td>...</td>\n",
              "      <td>...</td>\n",
              "      <td>...</td>\n",
              "      <td>...</td>\n",
              "      <td>...</td>\n",
              "      <td>...</td>\n",
              "      <td>...</td>\n",
              "      <td>...</td>\n",
              "      <td>...</td>\n",
              "    </tr>\n",
              "    <tr>\n",
              "      <th>372445</th>\n",
              "      <td>25.0</td>\n",
              "      <td>0.0</td>\n",
              "      <td>0.0</td>\n",
              "      <td>0.0</td>\n",
              "      <td>0.0</td>\n",
              "      <td>0.0</td>\n",
              "      <td>0.0</td>\n",
              "      <td>0.0</td>\n",
              "      <td>0.0</td>\n",
              "      <td>0.0</td>\n",
              "      <td>...</td>\n",
              "      <td>0.0</td>\n",
              "      <td>0.0</td>\n",
              "      <td>0.0</td>\n",
              "      <td>0.0</td>\n",
              "      <td>0.0</td>\n",
              "      <td>0.0</td>\n",
              "      <td>0.0</td>\n",
              "      <td>0.0</td>\n",
              "      <td>0.0</td>\n",
              "      <td>0.0</td>\n",
              "    </tr>\n",
              "    <tr>\n",
              "      <th>372446</th>\n",
              "      <td>25.0</td>\n",
              "      <td>0.0</td>\n",
              "      <td>0.0</td>\n",
              "      <td>0.0</td>\n",
              "      <td>0.0</td>\n",
              "      <td>0.0</td>\n",
              "      <td>0.0</td>\n",
              "      <td>0.0</td>\n",
              "      <td>0.0</td>\n",
              "      <td>0.0</td>\n",
              "      <td>...</td>\n",
              "      <td>0.0</td>\n",
              "      <td>0.0</td>\n",
              "      <td>0.0</td>\n",
              "      <td>0.0</td>\n",
              "      <td>0.0</td>\n",
              "      <td>0.0</td>\n",
              "      <td>0.0</td>\n",
              "      <td>0.0</td>\n",
              "      <td>0.0</td>\n",
              "      <td>0.0</td>\n",
              "    </tr>\n",
              "    <tr>\n",
              "      <th>372447</th>\n",
              "      <td>25.0</td>\n",
              "      <td>0.0</td>\n",
              "      <td>0.0</td>\n",
              "      <td>0.0</td>\n",
              "      <td>0.0</td>\n",
              "      <td>0.0</td>\n",
              "      <td>0.0</td>\n",
              "      <td>0.0</td>\n",
              "      <td>0.0</td>\n",
              "      <td>0.0</td>\n",
              "      <td>...</td>\n",
              "      <td>0.0</td>\n",
              "      <td>0.0</td>\n",
              "      <td>0.0</td>\n",
              "      <td>0.0</td>\n",
              "      <td>0.0</td>\n",
              "      <td>0.0</td>\n",
              "      <td>0.0</td>\n",
              "      <td>0.0</td>\n",
              "      <td>0.0</td>\n",
              "      <td>0.0</td>\n",
              "    </tr>\n",
              "    <tr>\n",
              "      <th>372448</th>\n",
              "      <td>25.0</td>\n",
              "      <td>0.0</td>\n",
              "      <td>0.0</td>\n",
              "      <td>0.0</td>\n",
              "      <td>0.0</td>\n",
              "      <td>0.0</td>\n",
              "      <td>0.0</td>\n",
              "      <td>0.0</td>\n",
              "      <td>0.0</td>\n",
              "      <td>0.0</td>\n",
              "      <td>...</td>\n",
              "      <td>0.0</td>\n",
              "      <td>0.0</td>\n",
              "      <td>0.0</td>\n",
              "      <td>0.0</td>\n",
              "      <td>0.0</td>\n",
              "      <td>0.0</td>\n",
              "      <td>0.0</td>\n",
              "      <td>0.0</td>\n",
              "      <td>0.0</td>\n",
              "      <td>0.0</td>\n",
              "    </tr>\n",
              "    <tr>\n",
              "      <th>372449</th>\n",
              "      <td>25.0</td>\n",
              "      <td>0.0</td>\n",
              "      <td>0.0</td>\n",
              "      <td>0.0</td>\n",
              "      <td>0.0</td>\n",
              "      <td>0.0</td>\n",
              "      <td>0.0</td>\n",
              "      <td>0.0</td>\n",
              "      <td>0.0</td>\n",
              "      <td>0.0</td>\n",
              "      <td>...</td>\n",
              "      <td>0.0</td>\n",
              "      <td>0.0</td>\n",
              "      <td>0.0</td>\n",
              "      <td>0.0</td>\n",
              "      <td>0.0</td>\n",
              "      <td>0.0</td>\n",
              "      <td>0.0</td>\n",
              "      <td>0.0</td>\n",
              "      <td>0.0</td>\n",
              "      <td>0.0</td>\n",
              "    </tr>\n",
              "  </tbody>\n",
              "</table>\n",
              "<p>372450 rows × 785 columns</p>\n",
              "</div>\n",
              "    <div class=\"colab-df-buttons\">\n",
              "\n",
              "  <div class=\"colab-df-container\">\n",
              "    <button class=\"colab-df-convert\" onclick=\"convertToInteractive('df-38173a9a-9500-4a3b-bc09-f3610ff35e31')\"\n",
              "            title=\"Convert this dataframe to an interactive table.\"\n",
              "            style=\"display:none;\">\n",
              "\n",
              "  <svg xmlns=\"http://www.w3.org/2000/svg\" height=\"24px\" viewBox=\"0 -960 960 960\">\n",
              "    <path d=\"M120-120v-720h720v720H120Zm60-500h600v-160H180v160Zm220 220h160v-160H400v160Zm0 220h160v-160H400v160ZM180-400h160v-160H180v160Zm440 0h160v-160H620v160ZM180-180h160v-160H180v160Zm440 0h160v-160H620v160Z\"/>\n",
              "  </svg>\n",
              "    </button>\n",
              "\n",
              "  <style>\n",
              "    .colab-df-container {\n",
              "      display:flex;\n",
              "      gap: 12px;\n",
              "    }\n",
              "\n",
              "    .colab-df-convert {\n",
              "      background-color: #E8F0FE;\n",
              "      border: none;\n",
              "      border-radius: 50%;\n",
              "      cursor: pointer;\n",
              "      display: none;\n",
              "      fill: #1967D2;\n",
              "      height: 32px;\n",
              "      padding: 0 0 0 0;\n",
              "      width: 32px;\n",
              "    }\n",
              "\n",
              "    .colab-df-convert:hover {\n",
              "      background-color: #E2EBFA;\n",
              "      box-shadow: 0px 1px 2px rgba(60, 64, 67, 0.3), 0px 1px 3px 1px rgba(60, 64, 67, 0.15);\n",
              "      fill: #174EA6;\n",
              "    }\n",
              "\n",
              "    .colab-df-buttons div {\n",
              "      margin-bottom: 4px;\n",
              "    }\n",
              "\n",
              "    [theme=dark] .colab-df-convert {\n",
              "      background-color: #3B4455;\n",
              "      fill: #D2E3FC;\n",
              "    }\n",
              "\n",
              "    [theme=dark] .colab-df-convert:hover {\n",
              "      background-color: #434B5C;\n",
              "      box-shadow: 0px 1px 3px 1px rgba(0, 0, 0, 0.15);\n",
              "      filter: drop-shadow(0px 1px 2px rgba(0, 0, 0, 0.3));\n",
              "      fill: #FFFFFF;\n",
              "    }\n",
              "  </style>\n",
              "\n",
              "    <script>\n",
              "      const buttonEl =\n",
              "        document.querySelector('#df-38173a9a-9500-4a3b-bc09-f3610ff35e31 button.colab-df-convert');\n",
              "      buttonEl.style.display =\n",
              "        google.colab.kernel.accessAllowed ? 'block' : 'none';\n",
              "\n",
              "      async function convertToInteractive(key) {\n",
              "        const element = document.querySelector('#df-38173a9a-9500-4a3b-bc09-f3610ff35e31');\n",
              "        const dataTable =\n",
              "          await google.colab.kernel.invokeFunction('convertToInteractive',\n",
              "                                                    [key], {});\n",
              "        if (!dataTable) return;\n",
              "\n",
              "        const docLinkHtml = 'Like what you see? Visit the ' +\n",
              "          '<a target=\"_blank\" href=https://colab.research.google.com/notebooks/data_table.ipynb>data table notebook</a>'\n",
              "          + ' to learn more about interactive tables.';\n",
              "        element.innerHTML = '';\n",
              "        dataTable['output_type'] = 'display_data';\n",
              "        await google.colab.output.renderOutput(dataTable, element);\n",
              "        const docLink = document.createElement('div');\n",
              "        docLink.innerHTML = docLinkHtml;\n",
              "        element.appendChild(docLink);\n",
              "      }\n",
              "    </script>\n",
              "  </div>\n",
              "\n",
              "\n",
              "<div id=\"df-d03cda17-93ee-4d58-b973-987681274b81\">\n",
              "  <button class=\"colab-df-quickchart\" onclick=\"quickchart('df-d03cda17-93ee-4d58-b973-987681274b81')\"\n",
              "            title=\"Suggest charts\"\n",
              "            style=\"display:none;\">\n",
              "\n",
              "<svg xmlns=\"http://www.w3.org/2000/svg\" height=\"24px\"viewBox=\"0 0 24 24\"\n",
              "     width=\"24px\">\n",
              "    <g>\n",
              "        <path d=\"M19 3H5c-1.1 0-2 .9-2 2v14c0 1.1.9 2 2 2h14c1.1 0 2-.9 2-2V5c0-1.1-.9-2-2-2zM9 17H7v-7h2v7zm4 0h-2V7h2v10zm4 0h-2v-4h2v4z\"/>\n",
              "    </g>\n",
              "</svg>\n",
              "  </button>\n",
              "\n",
              "<style>\n",
              "  .colab-df-quickchart {\n",
              "      --bg-color: #E8F0FE;\n",
              "      --fill-color: #1967D2;\n",
              "      --hover-bg-color: #E2EBFA;\n",
              "      --hover-fill-color: #174EA6;\n",
              "      --disabled-fill-color: #AAA;\n",
              "      --disabled-bg-color: #DDD;\n",
              "  }\n",
              "\n",
              "  [theme=dark] .colab-df-quickchart {\n",
              "      --bg-color: #3B4455;\n",
              "      --fill-color: #D2E3FC;\n",
              "      --hover-bg-color: #434B5C;\n",
              "      --hover-fill-color: #FFFFFF;\n",
              "      --disabled-bg-color: #3B4455;\n",
              "      --disabled-fill-color: #666;\n",
              "  }\n",
              "\n",
              "  .colab-df-quickchart {\n",
              "    background-color: var(--bg-color);\n",
              "    border: none;\n",
              "    border-radius: 50%;\n",
              "    cursor: pointer;\n",
              "    display: none;\n",
              "    fill: var(--fill-color);\n",
              "    height: 32px;\n",
              "    padding: 0;\n",
              "    width: 32px;\n",
              "  }\n",
              "\n",
              "  .colab-df-quickchart:hover {\n",
              "    background-color: var(--hover-bg-color);\n",
              "    box-shadow: 0 1px 2px rgba(60, 64, 67, 0.3), 0 1px 3px 1px rgba(60, 64, 67, 0.15);\n",
              "    fill: var(--button-hover-fill-color);\n",
              "  }\n",
              "\n",
              "  .colab-df-quickchart-complete:disabled,\n",
              "  .colab-df-quickchart-complete:disabled:hover {\n",
              "    background-color: var(--disabled-bg-color);\n",
              "    fill: var(--disabled-fill-color);\n",
              "    box-shadow: none;\n",
              "  }\n",
              "\n",
              "  .colab-df-spinner {\n",
              "    border: 2px solid var(--fill-color);\n",
              "    border-color: transparent;\n",
              "    border-bottom-color: var(--fill-color);\n",
              "    animation:\n",
              "      spin 1s steps(1) infinite;\n",
              "  }\n",
              "\n",
              "  @keyframes spin {\n",
              "    0% {\n",
              "      border-color: transparent;\n",
              "      border-bottom-color: var(--fill-color);\n",
              "      border-left-color: var(--fill-color);\n",
              "    }\n",
              "    20% {\n",
              "      border-color: transparent;\n",
              "      border-left-color: var(--fill-color);\n",
              "      border-top-color: var(--fill-color);\n",
              "    }\n",
              "    30% {\n",
              "      border-color: transparent;\n",
              "      border-left-color: var(--fill-color);\n",
              "      border-top-color: var(--fill-color);\n",
              "      border-right-color: var(--fill-color);\n",
              "    }\n",
              "    40% {\n",
              "      border-color: transparent;\n",
              "      border-right-color: var(--fill-color);\n",
              "      border-top-color: var(--fill-color);\n",
              "    }\n",
              "    60% {\n",
              "      border-color: transparent;\n",
              "      border-right-color: var(--fill-color);\n",
              "    }\n",
              "    80% {\n",
              "      border-color: transparent;\n",
              "      border-right-color: var(--fill-color);\n",
              "      border-bottom-color: var(--fill-color);\n",
              "    }\n",
              "    90% {\n",
              "      border-color: transparent;\n",
              "      border-bottom-color: var(--fill-color);\n",
              "    }\n",
              "  }\n",
              "</style>\n",
              "\n",
              "  <script>\n",
              "    async function quickchart(key) {\n",
              "      const quickchartButtonEl =\n",
              "        document.querySelector('#' + key + ' button');\n",
              "      quickchartButtonEl.disabled = true;  // To prevent multiple clicks.\n",
              "      quickchartButtonEl.classList.add('colab-df-spinner');\n",
              "      try {\n",
              "        const charts = await google.colab.kernel.invokeFunction(\n",
              "            'suggestCharts', [key], {});\n",
              "      } catch (error) {\n",
              "        console.error('Error during call to suggestCharts:', error);\n",
              "      }\n",
              "      quickchartButtonEl.classList.remove('colab-df-spinner');\n",
              "      quickchartButtonEl.classList.add('colab-df-quickchart-complete');\n",
              "    }\n",
              "    (() => {\n",
              "      let quickchartButtonEl =\n",
              "        document.querySelector('#df-d03cda17-93ee-4d58-b973-987681274b81 button');\n",
              "      quickchartButtonEl.style.display =\n",
              "        google.colab.kernel.accessAllowed ? 'block' : 'none';\n",
              "    })();\n",
              "  </script>\n",
              "</div>\n",
              "    </div>\n",
              "  </div>\n"
            ]
          },
          "metadata": {},
          "execution_count": 5
        }
      ]
    },
    {
      "cell_type": "code",
      "source": [
        "df.shape"
      ],
      "metadata": {
        "colab": {
          "base_uri": "https://localhost:8080/"
        },
        "id": "UvvOy_7xX9J3",
        "outputId": "45a5bcd3-4f47-4c49-d243-9926e4d8a779"
      },
      "execution_count": null,
      "outputs": [
        {
          "output_type": "execute_result",
          "data": {
            "text/plain": [
              "(372450, 785)"
            ]
          },
          "metadata": {},
          "execution_count": 6
        }
      ]
    },
    {
      "cell_type": "code",
      "source": [
        "df.isnull().sum()"
      ],
      "metadata": {
        "colab": {
          "base_uri": "https://localhost:8080/"
        },
        "id": "Wcfz0rqWZRyY",
        "outputId": "688b2ebf-332d-4b30-c3e7-174081aeb142"
      },
      "execution_count": null,
      "outputs": [
        {
          "output_type": "execute_result",
          "data": {
            "text/plain": [
              "0        0\n",
              "0.1      0\n",
              "0.2      0\n",
              "0.3      0\n",
              "0.4      0\n",
              "        ..\n",
              "0.644    0\n",
              "0.645    0\n",
              "0.646    0\n",
              "0.647    0\n",
              "0.648    0\n",
              "Length: 785, dtype: int64"
            ]
          },
          "metadata": {},
          "execution_count": 7
        }
      ]
    },
    {
      "cell_type": "code",
      "source": [
        "df.info()"
      ],
      "metadata": {
        "id": "f6ko-aBiZldY",
        "colab": {
          "base_uri": "https://localhost:8080/"
        },
        "outputId": "b7f47c0b-c023-4915-871d-efdb5a36cf4d"
      },
      "execution_count": null,
      "outputs": [
        {
          "output_type": "stream",
          "name": "stdout",
          "text": [
            "<class 'pandas.core.frame.DataFrame'>\n",
            "RangeIndex: 372450 entries, 0 to 372449\n",
            "Columns: 785 entries, 0 to 0.648\n",
            "dtypes: float32(785)\n",
            "memory usage: 1.1 GB\n"
          ]
        }
      ]
    },
    {
      "cell_type": "markdown",
      "source": [
        "Split x and y column from dataset"
      ],
      "metadata": {
        "id": "QwoK5gQNtah8"
      }
    },
    {
      "cell_type": "code",
      "source": [
        "x = df.drop('0', axis = 1)\n",
        "y = df['0']"
      ],
      "metadata": {
        "id": "hIsskEpkr2zG"
      },
      "execution_count": 6,
      "outputs": []
    },
    {
      "cell_type": "markdown",
      "source": [
        "Reshaping images from dataset"
      ],
      "metadata": {
        "id": "8ymz4D0StZUx"
      }
    },
    {
      "cell_type": "code",
      "source": [
        "# we are reshaping the train & test image data so that they can be displayed as an image,\n",
        "# as initially in the CSV file they were present as 784 columns of pixel data. So we convert it to 28×28 pixels.\n",
        "\n",
        "x_train, x_test, y_train, y_test = train_test_split(x, y, test_size = 0.2)\n",
        "x_train = np.reshape(x_train.values, (x_train.shape[0], 28, 28))\n",
        "x_test = np.reshape(x_test.values, (x_test.shape[0], 28, 28))\n",
        "\n",
        "print('Train Data Shape:', x_train.shape)\n",
        "print('Test Data Shape:', x_test.shape)\n",
        "print('Train Data Shape:', y_train.shape)\n",
        "print('Test Data Shape:', y_test.shape)"
      ],
      "metadata": {
        "colab": {
          "base_uri": "https://localhost:8080/"
        },
        "id": "cZhg-pJhtL8X",
        "outputId": "8e60c0b5-9f24-43ad-9242-bb73cdb450d8"
      },
      "execution_count": 7,
      "outputs": [
        {
          "output_type": "stream",
          "name": "stdout",
          "text": [
            "Train Data Shape: (297960, 28, 28)\n",
            "Test Data Shape: (74490, 28, 28)\n",
            "Train Data Shape: (297960,)\n",
            "Test Data Shape: (74490,)\n"
          ]
        }
      ]
    },
    {
      "cell_type": "markdown",
      "source": [
        "Creating dictionary of alphabets"
      ],
      "metadata": {
        "id": "F_WbqWMYtmBL"
      }
    },
    {
      "cell_type": "code",
      "source": [
        "word_dict = {\n",
        "    0:'A',1:'B',2:'C',3:'D',4:'E',5:'F',6:'G',7:'H',8:'I',9:'J',10:'K',11:'L',12:'M',13:'N',14:'O',15:'P',16:'Q',17:'R',18:'S',19:'T',20:'U',21:'V',22:'W',23:'X', 24:'Y',25:'Z'\n",
        "}"
      ],
      "metadata": {
        "id": "kYU8mQVftL4u"
      },
      "execution_count": 8,
      "outputs": []
    },
    {
      "cell_type": "markdown",
      "source": [
        "show random images"
      ],
      "metadata": {
        "id": "QOhLXm8Ht7XB"
      }
    },
    {
      "cell_type": "code",
      "source": [
        "plt.figure(figsize = (12,10))\n",
        "row, colums = 5, 5\n",
        "for i in range(25):\n",
        "    plt.subplot(colums, row, i+1)\n",
        "    plt.imshow(x_train[i].reshape([28,28]),interpolation='nearest', cmap='Greys')\n",
        "plt.show()"
      ],
      "metadata": {
        "colab": {
          "base_uri": "https://localhost:8080/",
          "height": 833
        },
        "id": "9cYtFKSUuPnD",
        "outputId": "ea12ff5a-2b53-431d-f9e9-5d00841d36ea"
      },
      "execution_count": 9,
      "outputs": [
        {
          "output_type": "display_data",
          "data": {
            "text/plain": [
              "<Figure size 1200x1000 with 25 Axes>"
            ],
            "image/png": "[encoded data removed]"
          },
          "metadata": {}
        }
      ]
    },
    {
      "cell_type": "markdown",
      "source": [
        "Normalize images"
      ],
      "metadata": {
        "id": "DwWOCEpzxln7"
      }
    },
    {
      "cell_type": "code",
      "source": [
        "train_images = x_train / 255.0\n",
        "test_images = x_test / 255.0\n"
      ],
      "metadata": {
        "id": "XKS3NLzqxFi-"
      },
      "execution_count": 10,
      "outputs": []
    },
    {
      "cell_type": "markdown",
      "source": [
        "Reshape data"
      ],
      "metadata": {
        "id": "p6gUwLImvtM5"
      }
    },
    {
      "cell_type": "code",
      "source": [
        "# train_images = train_images.reshape(train_images.shape[0], train_images.shape[1], train_images.shape[2], 1)\n",
        "# print(\"New shape of train data:\", train_images.shape)\n",
        "\n",
        "# test_images = test_images.reshape(test_images.shape[0], test_images.shape[1], test_images.shape[2], 1)\n",
        "# print(\"New shape of test data:\", test_images.shape)"
      ],
      "metadata": {
        "colab": {
          "base_uri": "https://localhost:8080/"
        },
        "id": "WlDCl8mFvu9H",
        "outputId": "373eae4c-1735-494c-9fb5-ac3de6acbdbd"
      },
      "execution_count": null,
      "outputs": [
        {
          "output_type": "stream",
          "name": "stdout",
          "text": [
            "New shape of train data: (297960, 28, 28, 1)\n",
            "New shape of test data: (74490, 28, 28, 1)\n"
          ]
        }
      ]
    },
    {
      "cell_type": "code",
      "source": [
        "train_images=train_images.reshape(297960,784)\n",
        "test_images=test_images.reshape(74490,784)"
      ],
      "metadata": {
        "id": "rLPmdjVo_21w"
      },
      "execution_count": 11,
      "outputs": []
    },
    {
      "cell_type": "markdown",
      "source": [
        "convert number to 26 categories"
      ],
      "metadata": {
        "id": "aM3Iy9lnyejo"
      }
    },
    {
      "cell_type": "code",
      "source": [
        "import tensorflow as tf\n",
        "number_of_classes = 26\n",
        "ytrain = tf.keras.utils.to_categorical(y_train, number_of_classes)\n",
        "ytest = tf.keras.utils.to_categorical(y_test, number_of_classes)"
      ],
      "metadata": {
        "id": "PYlpLYpRySaQ"
      },
      "execution_count": 12,
      "outputs": []
    },
    {
      "cell_type": "code",
      "source": [
        "# Display the shape of the training and testing data\n",
        "print(\"X_train shape : \", train_images.shape)\n",
        "print(\"X_test shape : \", test_images.shape)\n",
        "print(\"y_train shape : \", ytrain.shape)\n",
        "print(\"y_test shape : \", ytest.shape)"
      ],
      "metadata": {
        "colab": {
          "base_uri": "https://localhost:8080/"
        },
        "id": "ja9weXzozfXM",
        "outputId": "6c9b411a-163f-46ee-c415-feda3e32ad0b"
      },
      "execution_count": 13,
      "outputs": [
        {
          "output_type": "stream",
          "name": "stdout",
          "text": [
            "X_train shape :  (297960, 784)\n",
            "X_test shape :  (74490, 784)\n",
            "y_train shape :  (297960, 26)\n",
            "y_test shape :  (74490, 26)\n"
          ]
        }
      ]
    },
    {
      "cell_type": "markdown",
      "source": [
        "Split 10% validation\n"
      ],
      "metadata": {
        "id": "koQM5a_mz_OO"
      }
    },
    {
      "cell_type": "code",
      "source": [
        "from sklearn.model_selection import train_test_split\n",
        "X_train, X_val, y_train, y_val = train_test_split(train_images, ytrain, test_size=0.1, random_state=42)"
      ],
      "metadata": {
        "id": "_K5He_cg0EgI"
      },
      "execution_count": 14,
      "outputs": []
    },
    {
      "cell_type": "markdown",
      "source": [
        "#ANN"
      ],
      "metadata": {
        "id": "yFe5BGob1K-O"
      }
    },
    {
      "cell_type": "code",
      "source": [
        "from keras.models import Sequential, load_model\n",
        "from keras.layers import Dense\n",
        "model1 = Sequential()\n",
        "\n",
        "\n",
        "model1.add(Dense(784, input_shape=(784,), kernel_initializer='normal', activation='relu'))\n",
        "model1.add(Dense(128, activation='relu'))\n",
        "model1.add(Dense(128, activation='relu'))\n",
        "model1.add(Dense(128, activation='relu'))\n",
        "model1.add(Dense(26, kernel_initializer='normal', activation='softmax'))"
      ],
      "metadata": {
        "id": "ZGDoanbITTkj"
      },
      "execution_count": null,
      "outputs": []
    },
    {
      "cell_type": "code",
      "source": [
        "from keras.callbacks import EarlyStopping, ModelCheckpoint\n",
        "early_stopping = EarlyStopping(monitor='val_loss', patience=5, verbose=1, mode='min')\n",
        "save1 = ModelCheckpoint('my_model1.h5', save_best_only=True, monitor='val_loss', verbose=1, mode='auto')"
      ],
      "metadata": {
        "id": "ucVIf_1KThcr"
      },
      "execution_count": null,
      "outputs": []
    },
    {
      "cell_type": "code",
      "source": [
        "model1.compile(optimizer=SGD(0.001),loss='categorical_crossentropy',  metrics=['accuracy'])"
      ],
      "metadata": {
        "id": "GfGCSFOuTqkN"
      },
      "execution_count": null,
      "outputs": []
    },
    {
      "cell_type": "code",
      "source": [
        "history1 = model1.fit(train_images,\n",
        "                    ytrain,\n",
        "                    epochs=100,\n",
        "                    batch_size=50,\n",
        "                    verbose=1,\n",
        "                    validation_split=0.1,\n",
        "                    callbacks=[early_stopping, save1])"
      ],
      "metadata": {
        "colab": {
          "base_uri": "https://localhost:8080/"
        },
        "id": "-BuVws7pTuFF",
        "outputId": "4c4677f9-6288-4b03-819c-7ac09518e43d"
      },
      "execution_count": null,
      "outputs": [
        {
          "output_type": "stream",
          "name": "stdout",
          "text": [
            "Epoch 1/100\n",
            "5364/5364 [==============================] - ETA: 0s - loss: 2.4706 - accuracy: 0.3139\n",
            "Epoch 1: val_loss improved from inf to 1.80095, saving model to my_model1.h5\n",
            "5364/5364 [==============================] - 27s 5ms/step - loss: 2.4706 - accuracy: 0.3139 - val_loss: 1.8009 - val_accuracy: 0.5299\n",
            "Epoch 2/100\n",
            "  30/5364 [..............................] - ETA: 18s - loss: 1.8529 - accuracy: 0.4993"
          ]
        },
        {
          "output_type": "stream",
          "name": "stderr",
          "text": [
            "/usr/local/lib/python3.10/dist-packages/keras/src/engine/training.py:3079: UserWarning: You are saving your model as an HDF5 file via `model.save()`. This file format is considered legacy. We recommend using instead the native Keras format, e.g. `model.save('my_model.keras')`.\n",
            "  saving_api.save_model(\n"
          ]
        },
        {
          "output_type": "stream",
          "name": "stdout",
          "text": [
            "5354/5364 [============================>.] - ETA: 0s - loss: 1.3158 - accuracy: 0.6367\n",
            "Epoch 2: val_loss improved from 1.80095 to 0.96954, saving model to my_model1.h5\n",
            "5364/5364 [==============================] - 24s 5ms/step - loss: 1.3152 - accuracy: 0.6369 - val_loss: 0.9695 - val_accuracy: 0.7319\n",
            "Epoch 3/100\n",
            "5359/5364 [============================>.] - ETA: 0s - loss: 0.8239 - accuracy: 0.7709\n",
            "Epoch 3: val_loss improved from 0.96954 to 0.71310, saving model to my_model1.h5\n",
            "5364/5364 [==============================] - 24s 5ms/step - loss: 0.8239 - accuracy: 0.7709 - val_loss: 0.7131 - val_accuracy: 0.8036\n",
            "Epoch 4/100\n",
            "5361/5364 [============================>.] - ETA: 0s - loss: 0.6540 - accuracy: 0.8213\n",
            "Epoch 4: val_loss improved from 0.71310 to 0.59927, saving model to my_model1.h5\n",
            "5364/5364 [==============================] - 25s 5ms/step - loss: 0.6540 - accuracy: 0.8213 - val_loss: 0.5993 - val_accuracy: 0.8345\n",
            "Epoch 5/100\n",
            "5354/5364 [============================>.] - ETA: 0s - loss: 0.5618 - accuracy: 0.8463\n",
            "Epoch 5: val_loss improved from 0.59927 to 0.52413, saving model to my_model1.h5\n",
            "5364/5364 [==============================] - 26s 5ms/step - loss: 0.5617 - accuracy: 0.8463 - val_loss: 0.5241 - val_accuracy: 0.8531\n",
            "Epoch 6/100\n",
            "5353/5364 [============================>.] - ETA: 0s - loss: 0.4975 - accuracy: 0.8649\n",
            "Epoch 6: val_loss improved from 0.52413 to 0.47121, saving model to my_model1.h5\n",
            "5364/5364 [==============================] - 26s 5ms/step - loss: 0.4974 - accuracy: 0.8649 - val_loss: 0.4712 - val_accuracy: 0.8705\n",
            "Epoch 7/100\n",
            "5356/5364 [============================>.] - ETA: 0s - loss: 0.4475 - accuracy: 0.8792\n",
            "Epoch 7: val_loss improved from 0.47121 to 0.42548, saving model to my_model1.h5\n",
            "5364/5364 [==============================] - 24s 5ms/step - loss: 0.4475 - accuracy: 0.8792 - val_loss: 0.4255 - val_accuracy: 0.8822\n",
            "Epoch 8/100\n",
            "5356/5364 [============================>.] - ETA: 0s - loss: 0.4071 - accuracy: 0.8904\n",
            "Epoch 8: val_loss improved from 0.42548 to 0.39097, saving model to my_model1.h5\n",
            "5364/5364 [==============================] - 26s 5ms/step - loss: 0.4070 - accuracy: 0.8904 - val_loss: 0.3910 - val_accuracy: 0.8911\n",
            "Epoch 9/100\n",
            "5361/5364 [============================>.] - ETA: 0s - loss: 0.3736 - accuracy: 0.8993\n",
            "Epoch 9: val_loss improved from 0.39097 to 0.36165, saving model to my_model1.h5\n",
            "5364/5364 [==============================] - 24s 5ms/step - loss: 0.3736 - accuracy: 0.8993 - val_loss: 0.3617 - val_accuracy: 0.9000\n",
            "Epoch 10/100\n",
            "5358/5364 [============================>.] - ETA: 0s - loss: 0.3454 - accuracy: 0.9072\n",
            "Epoch 10: val_loss improved from 0.36165 to 0.33615, saving model to my_model1.h5\n",
            "5364/5364 [==============================] - 25s 5ms/step - loss: 0.3454 - accuracy: 0.9072 - val_loss: 0.3362 - val_accuracy: 0.9076\n",
            "Epoch 11/100\n",
            "5363/5364 [============================>.] - ETA: 0s - loss: 0.3218 - accuracy: 0.9139\n",
            "Epoch 11: val_loss improved from 0.33615 to 0.31583, saving model to my_model1.h5\n",
            "5364/5364 [==============================] - 26s 5ms/step - loss: 0.3218 - accuracy: 0.9139 - val_loss: 0.3158 - val_accuracy: 0.9134\n",
            "Epoch 12/100\n",
            "5361/5364 [============================>.] - ETA: 0s - loss: 0.3015 - accuracy: 0.9190\n",
            "Epoch 12: val_loss improved from 0.31583 to 0.29546, saving model to my_model1.h5\n",
            "5364/5364 [==============================] - 25s 5ms/step - loss: 0.3015 - accuracy: 0.9190 - val_loss: 0.2955 - val_accuracy: 0.9193\n",
            "Epoch 13/100\n",
            "5353/5364 [============================>.] - ETA: 0s - loss: 0.2840 - accuracy: 0.9237\n",
            "Epoch 13: val_loss improved from 0.29546 to 0.28088, saving model to my_model1.h5\n",
            "5364/5364 [==============================] - 25s 5ms/step - loss: 0.2840 - accuracy: 0.9238 - val_loss: 0.2809 - val_accuracy: 0.9230\n",
            "Epoch 14/100\n",
            "5362/5364 [============================>.] - ETA: 0s - loss: 0.2684 - accuracy: 0.9280\n",
            "Epoch 14: val_loss improved from 0.28088 to 0.26683, saving model to my_model1.h5\n",
            "5364/5364 [==============================] - 25s 5ms/step - loss: 0.2684 - accuracy: 0.9280 - val_loss: 0.2668 - val_accuracy: 0.9257\n",
            "Epoch 15/100\n",
            "5360/5364 [============================>.] - ETA: 0s - loss: 0.2549 - accuracy: 0.9315\n",
            "Epoch 15: val_loss improved from 0.26683 to 0.25894, saving model to my_model1.h5\n",
            "5364/5364 [==============================] - 23s 4ms/step - loss: 0.2549 - accuracy: 0.9315 - val_loss: 0.2589 - val_accuracy: 0.9272\n",
            "Epoch 16/100\n",
            "5361/5364 [============================>.] - ETA: 0s - loss: 0.2427 - accuracy: 0.9345\n",
            "Epoch 16: val_loss improved from 0.25894 to 0.24332, saving model to my_model1.h5\n",
            "5364/5364 [==============================] - 27s 5ms/step - loss: 0.2427 - accuracy: 0.9345 - val_loss: 0.2433 - val_accuracy: 0.9318\n",
            "Epoch 17/100\n",
            "5352/5364 [============================>.] - ETA: 0s - loss: 0.2316 - accuracy: 0.9375\n",
            "Epoch 17: val_loss improved from 0.24332 to 0.23594, saving model to my_model1.h5\n",
            "5364/5364 [==============================] - 31s 6ms/step - loss: 0.2317 - accuracy: 0.9375 - val_loss: 0.2359 - val_accuracy: 0.9344\n",
            "Epoch 18/100\n",
            "5363/5364 [============================>.] - ETA: 0s - loss: 0.2216 - accuracy: 0.9402\n",
            "Epoch 18: val_loss improved from 0.23594 to 0.22575, saving model to my_model1.h5\n",
            "5364/5364 [==============================] - 24s 4ms/step - loss: 0.2216 - accuracy: 0.9402 - val_loss: 0.2258 - val_accuracy: 0.9373\n",
            "Epoch 19/100\n",
            "5361/5364 [============================>.] - ETA: 0s - loss: 0.2124 - accuracy: 0.9425\n",
            "Epoch 19: val_loss improved from 0.22575 to 0.21477, saving model to my_model1.h5\n",
            "5364/5364 [==============================] - 26s 5ms/step - loss: 0.2124 - accuracy: 0.9425 - val_loss: 0.2148 - val_accuracy: 0.9398\n",
            "Epoch 20/100\n",
            "5363/5364 [============================>.] - ETA: 0s - loss: 0.2042 - accuracy: 0.9448\n",
            "Epoch 20: val_loss improved from 0.21477 to 0.21366, saving model to my_model1.h5\n",
            "5364/5364 [==============================] - 24s 4ms/step - loss: 0.2042 - accuracy: 0.9448 - val_loss: 0.2137 - val_accuracy: 0.9408\n",
            "Epoch 21/100\n",
            "5360/5364 [============================>.] - ETA: 0s - loss: 0.1966 - accuracy: 0.9469\n",
            "Epoch 21: val_loss improved from 0.21366 to 0.20148, saving model to my_model1.h5\n",
            "5364/5364 [==============================] - 27s 5ms/step - loss: 0.1966 - accuracy: 0.9470 - val_loss: 0.2015 - val_accuracy: 0.9442\n",
            "Epoch 22/100\n",
            "5361/5364 [============================>.] - ETA: 0s - loss: 0.1895 - accuracy: 0.9489\n",
            "Epoch 22: val_loss improved from 0.20148 to 0.19510, saving model to my_model1.h5\n",
            "5364/5364 [==============================] - 25s 5ms/step - loss: 0.1895 - accuracy: 0.9489 - val_loss: 0.1951 - val_accuracy: 0.9453\n",
            "Epoch 23/100\n",
            "5359/5364 [============================>.] - ETA: 0s - loss: 0.1831 - accuracy: 0.9506\n",
            "Epoch 23: val_loss improved from 0.19510 to 0.19291, saving model to my_model1.h5\n",
            "5364/5364 [==============================] - 23s 4ms/step - loss: 0.1831 - accuracy: 0.9506 - val_loss: 0.1929 - val_accuracy: 0.9460\n",
            "Epoch 24/100\n",
            "5355/5364 [============================>.] - ETA: 0s - loss: 0.1770 - accuracy: 0.9522\n",
            "Epoch 24: val_loss improved from 0.19291 to 0.18425, saving model to my_model1.h5\n",
            "5364/5364 [==============================] - 24s 5ms/step - loss: 0.1770 - accuracy: 0.9522 - val_loss: 0.1842 - val_accuracy: 0.9488\n",
            "Epoch 25/100\n",
            "5360/5364 [============================>.] - ETA: 0s - loss: 0.1716 - accuracy: 0.9535\n",
            "Epoch 25: val_loss improved from 0.18425 to 0.18002, saving model to my_model1.h5\n",
            "5364/5364 [==============================] - 24s 5ms/step - loss: 0.1716 - accuracy: 0.9535 - val_loss: 0.1800 - val_accuracy: 0.9491\n",
            "Epoch 26/100\n",
            "5352/5364 [============================>.] - ETA: 0s - loss: 0.1664 - accuracy: 0.9547\n",
            "Epoch 26: val_loss improved from 0.18002 to 0.17475, saving model to my_model1.h5\n",
            "5364/5364 [==============================] - 24s 4ms/step - loss: 0.1663 - accuracy: 0.9548 - val_loss: 0.1747 - val_accuracy: 0.9507\n",
            "Epoch 27/100\n",
            "5364/5364 [==============================] - ETA: 0s - loss: 0.1614 - accuracy: 0.9564\n",
            "Epoch 27: val_loss improved from 0.17475 to 0.17188, saving model to my_model1.h5\n",
            "5364/5364 [==============================] - 25s 5ms/step - loss: 0.1614 - accuracy: 0.9564 - val_loss: 0.1719 - val_accuracy: 0.9510\n",
            "Epoch 28/100\n",
            "5354/5364 [============================>.] - ETA: 0s - loss: 0.1568 - accuracy: 0.9576\n",
            "Epoch 28: val_loss improved from 0.17188 to 0.16533, saving model to my_model1.h5\n",
            "5364/5364 [==============================] - 25s 5ms/step - loss: 0.1568 - accuracy: 0.9576 - val_loss: 0.1653 - val_accuracy: 0.9532\n",
            "Epoch 29/100\n",
            "5355/5364 [============================>.] - ETA: 0s - loss: 0.1524 - accuracy: 0.9589\n",
            "Epoch 29: val_loss improved from 0.16533 to 0.16341, saving model to my_model1.h5\n",
            "5364/5364 [==============================] - 24s 4ms/step - loss: 0.1525 - accuracy: 0.9588 - val_loss: 0.1634 - val_accuracy: 0.9542\n",
            "Epoch 30/100\n",
            "5357/5364 [============================>.] - ETA: 0s - loss: 0.1483 - accuracy: 0.9600\n",
            "Epoch 30: val_loss improved from 0.16341 to 0.15981, saving model to my_model1.h5\n",
            "5364/5364 [==============================] - 23s 4ms/step - loss: 0.1483 - accuracy: 0.9600 - val_loss: 0.1598 - val_accuracy: 0.9561\n",
            "Epoch 31/100\n",
            "5363/5364 [============================>.] - ETA: 0s - loss: 0.1443 - accuracy: 0.9610\n",
            "Epoch 31: val_loss improved from 0.15981 to 0.15651, saving model to my_model1.h5\n",
            "5364/5364 [==============================] - 24s 4ms/step - loss: 0.1443 - accuracy: 0.9610 - val_loss: 0.1565 - val_accuracy: 0.9551\n",
            "Epoch 32/100\n",
            "5363/5364 [============================>.] - ETA: 0s - loss: 0.1407 - accuracy: 0.9620\n",
            "Epoch 32: val_loss improved from 0.15651 to 0.15209, saving model to my_model1.h5\n",
            "5364/5364 [==============================] - 25s 5ms/step - loss: 0.1407 - accuracy: 0.9620 - val_loss: 0.1521 - val_accuracy: 0.9578\n",
            "Epoch 33/100\n",
            "5359/5364 [============================>.] - ETA: 0s - loss: 0.1371 - accuracy: 0.9630\n",
            "Epoch 33: val_loss improved from 0.15209 to 0.14926, saving model to my_model1.h5\n",
            "5364/5364 [==============================] - 24s 4ms/step - loss: 0.1371 - accuracy: 0.9631 - val_loss: 0.1493 - val_accuracy: 0.9589\n",
            "Epoch 34/100\n",
            "5352/5364 [============================>.] - ETA: 0s - loss: 0.1339 - accuracy: 0.9640\n",
            "Epoch 34: val_loss did not improve from 0.14926\n",
            "5364/5364 [==============================] - 23s 4ms/step - loss: 0.1339 - accuracy: 0.9640 - val_loss: 0.1496 - val_accuracy: 0.9589\n",
            "Epoch 35/100\n",
            "5361/5364 [============================>.] - ETA: 0s - loss: 0.1305 - accuracy: 0.9647\n",
            "Epoch 35: val_loss improved from 0.14926 to 0.14484, saving model to my_model1.h5\n",
            "5364/5364 [==============================] - 26s 5ms/step - loss: 0.1305 - accuracy: 0.9647 - val_loss: 0.1448 - val_accuracy: 0.9601\n",
            "Epoch 36/100\n",
            "5354/5364 [============================>.] - ETA: 0s - loss: 0.1276 - accuracy: 0.9655\n",
            "Epoch 36: val_loss improved from 0.14484 to 0.14356, saving model to my_model1.h5\n",
            "5364/5364 [==============================] - 25s 5ms/step - loss: 0.1276 - accuracy: 0.9655 - val_loss: 0.1436 - val_accuracy: 0.9603\n",
            "Epoch 37/100\n",
            "5359/5364 [============================>.] - ETA: 0s - loss: 0.1245 - accuracy: 0.9666\n",
            "Epoch 37: val_loss improved from 0.14356 to 0.13929, saving model to my_model1.h5\n",
            "5364/5364 [==============================] - 25s 5ms/step - loss: 0.1245 - accuracy: 0.9666 - val_loss: 0.1393 - val_accuracy: 0.9620\n",
            "Epoch 38/100\n",
            "5364/5364 [==============================] - ETA: 0s - loss: 0.1217 - accuracy: 0.9673\n",
            "Epoch 38: val_loss improved from 0.13929 to 0.13651, saving model to my_model1.h5\n",
            "5364/5364 [==============================] - 23s 4ms/step - loss: 0.1217 - accuracy: 0.9673 - val_loss: 0.1365 - val_accuracy: 0.9623\n",
            "Epoch 39/100\n",
            "5354/5364 [============================>.] - ETA: 0s - loss: 0.1189 - accuracy: 0.9679\n",
            "Epoch 39: val_loss improved from 0.13651 to 0.13443, saving model to my_model1.h5\n",
            "5364/5364 [==============================] - 25s 5ms/step - loss: 0.1190 - accuracy: 0.9679 - val_loss: 0.1344 - val_accuracy: 0.9639\n",
            "Epoch 40/100\n",
            "5363/5364 [============================>.] - ETA: 0s - loss: 0.1165 - accuracy: 0.9685\n",
            "Epoch 40: val_loss improved from 0.13443 to 0.13309, saving model to my_model1.h5\n",
            "5364/5364 [==============================] - 25s 5ms/step - loss: 0.1165 - accuracy: 0.9685 - val_loss: 0.1331 - val_accuracy: 0.9632\n",
            "Epoch 41/100\n",
            "5358/5364 [============================>.] - ETA: 0s - loss: 0.1139 - accuracy: 0.9692\n",
            "Epoch 41: val_loss improved from 0.13309 to 0.12989, saving model to my_model1.h5\n",
            "5364/5364 [==============================] - 25s 5ms/step - loss: 0.1139 - accuracy: 0.9693 - val_loss: 0.1299 - val_accuracy: 0.9641\n",
            "Epoch 42/100\n",
            "5359/5364 [============================>.] - ETA: 0s - loss: 0.1115 - accuracy: 0.9701\n",
            "Epoch 42: val_loss improved from 0.12989 to 0.12773, saving model to my_model1.h5\n",
            "5364/5364 [==============================] - 31s 6ms/step - loss: 0.1115 - accuracy: 0.9701 - val_loss: 0.1277 - val_accuracy: 0.9649\n",
            "Epoch 43/100\n",
            "5364/5364 [==============================] - ETA: 0s - loss: 0.1090 - accuracy: 0.9707\n",
            "Epoch 43: val_loss improved from 0.12773 to 0.12615, saving model to my_model1.h5\n",
            "5364/5364 [==============================] - 24s 5ms/step - loss: 0.1090 - accuracy: 0.9707 - val_loss: 0.1261 - val_accuracy: 0.9653\n",
            "Epoch 44/100\n",
            "5359/5364 [============================>.] - ETA: 0s - loss: 0.1068 - accuracy: 0.9715\n",
            "Epoch 44: val_loss improved from 0.12615 to 0.12474, saving model to my_model1.h5\n",
            "5364/5364 [==============================] - 23s 4ms/step - loss: 0.1068 - accuracy: 0.9715 - val_loss: 0.1247 - val_accuracy: 0.9662\n",
            "Epoch 45/100\n",
            "5355/5364 [============================>.] - ETA: 0s - loss: 0.1046 - accuracy: 0.9722\n",
            "Epoch 45: val_loss improved from 0.12474 to 0.12175, saving model to my_model1.h5\n",
            "5364/5364 [==============================] - 26s 5ms/step - loss: 0.1046 - accuracy: 0.9722 - val_loss: 0.1218 - val_accuracy: 0.9668\n",
            "Epoch 46/100\n",
            "5357/5364 [============================>.] - ETA: 0s - loss: 0.1025 - accuracy: 0.9726\n",
            "Epoch 46: val_loss improved from 0.12175 to 0.12038, saving model to my_model1.h5\n",
            "5364/5364 [==============================] - 26s 5ms/step - loss: 0.1025 - accuracy: 0.9726 - val_loss: 0.1204 - val_accuracy: 0.9671\n",
            "Epoch 47/100\n",
            "5353/5364 [============================>.] - ETA: 0s - loss: 0.1005 - accuracy: 0.9734\n",
            "Epoch 47: val_loss improved from 0.12038 to 0.12031, saving model to my_model1.h5\n",
            "5364/5364 [==============================] - 24s 5ms/step - loss: 0.1005 - accuracy: 0.9734 - val_loss: 0.1203 - val_accuracy: 0.9667\n",
            "Epoch 48/100\n",
            "5364/5364 [==============================] - ETA: 0s - loss: 0.0986 - accuracy: 0.9738\n",
            "Epoch 48: val_loss improved from 0.12031 to 0.11774, saving model to my_model1.h5\n",
            "5364/5364 [==============================] - 24s 4ms/step - loss: 0.0986 - accuracy: 0.9738 - val_loss: 0.1177 - val_accuracy: 0.9680\n",
            "Epoch 49/100\n",
            "5355/5364 [============================>.] - ETA: 0s - loss: 0.0967 - accuracy: 0.9744\n",
            "Epoch 49: val_loss did not improve from 0.11774\n",
            "5364/5364 [==============================] - 23s 4ms/step - loss: 0.0966 - accuracy: 0.9744 - val_loss: 0.1191 - val_accuracy: 0.9668\n",
            "Epoch 50/100\n",
            "5356/5364 [============================>.] - ETA: 0s - loss: 0.0947 - accuracy: 0.9750\n",
            "Epoch 50: val_loss improved from 0.11774 to 0.11488, saving model to my_model1.h5\n",
            "5364/5364 [==============================] - 24s 4ms/step - loss: 0.0947 - accuracy: 0.9750 - val_loss: 0.1149 - val_accuracy: 0.9687\n",
            "Epoch 51/100\n",
            "5359/5364 [============================>.] - ETA: 0s - loss: 0.0929 - accuracy: 0.9755\n",
            "Epoch 51: val_loss improved from 0.11488 to 0.11362, saving model to my_model1.h5\n",
            "5364/5364 [==============================] - 26s 5ms/step - loss: 0.0929 - accuracy: 0.9755 - val_loss: 0.1136 - val_accuracy: 0.9684\n",
            "Epoch 52/100\n",
            "5359/5364 [============================>.] - ETA: 0s - loss: 0.0912 - accuracy: 0.9759\n",
            "Epoch 52: val_loss improved from 0.11362 to 0.11174, saving model to my_model1.h5\n",
            "5364/5364 [==============================] - 25s 5ms/step - loss: 0.0912 - accuracy: 0.9759 - val_loss: 0.1117 - val_accuracy: 0.9696\n",
            "Epoch 53/100\n",
            "5356/5364 [============================>.] - ETA: 0s - loss: 0.0896 - accuracy: 0.9764\n",
            "Epoch 53: val_loss improved from 0.11174 to 0.11059, saving model to my_model1.h5\n",
            "5364/5364 [==============================] - 24s 4ms/step - loss: 0.0895 - accuracy: 0.9764 - val_loss: 0.1106 - val_accuracy: 0.9697\n",
            "Epoch 54/100\n",
            "5357/5364 [============================>.] - ETA: 0s - loss: 0.0879 - accuracy: 0.9769\n",
            "Epoch 54: val_loss improved from 0.11059 to 0.10837, saving model to my_model1.h5\n",
            "5364/5364 [==============================] - 26s 5ms/step - loss: 0.0879 - accuracy: 0.9769 - val_loss: 0.1084 - val_accuracy: 0.9707\n",
            "Epoch 55/100\n",
            "5358/5364 [============================>.] - ETA: 0s - loss: 0.0863 - accuracy: 0.9774\n",
            "Epoch 55: val_loss did not improve from 0.10837\n",
            "5364/5364 [==============================] - 25s 5ms/step - loss: 0.0863 - accuracy: 0.9774 - val_loss: 0.1089 - val_accuracy: 0.9705\n",
            "Epoch 56/100\n",
            "5361/5364 [============================>.] - ETA: 0s - loss: 0.0847 - accuracy: 0.9778\n",
            "Epoch 56: val_loss improved from 0.10837 to 0.10602, saving model to my_model1.h5\n",
            "5364/5364 [==============================] - 25s 5ms/step - loss: 0.0847 - accuracy: 0.9778 - val_loss: 0.1060 - val_accuracy: 0.9713\n",
            "Epoch 57/100\n",
            "5364/5364 [==============================] - ETA: 0s - loss: 0.0832 - accuracy: 0.9783\n",
            "Epoch 57: val_loss improved from 0.10602 to 0.10535, saving model to my_model1.h5\n",
            "5364/5364 [==============================] - 31s 6ms/step - loss: 0.0832 - accuracy: 0.9783 - val_loss: 0.1053 - val_accuracy: 0.9712\n",
            "Epoch 58/100\n",
            "5360/5364 [============================>.] - ETA: 0s - loss: 0.0816 - accuracy: 0.9787\n",
            "Epoch 58: val_loss improved from 0.10535 to 0.10499, saving model to my_model1.h5\n",
            "5364/5364 [==============================] - 26s 5ms/step - loss: 0.0816 - accuracy: 0.9787 - val_loss: 0.1050 - val_accuracy: 0.9719\n",
            "Epoch 59/100\n",
            "5364/5364 [==============================] - ETA: 0s - loss: 0.0802 - accuracy: 0.9793\n",
            "Epoch 59: val_loss did not improve from 0.10499\n",
            "5364/5364 [==============================] - 25s 5ms/step - loss: 0.0802 - accuracy: 0.9793 - val_loss: 0.1123 - val_accuracy: 0.9690\n",
            "Epoch 60/100\n",
            "5364/5364 [==============================] - ETA: 0s - loss: 0.0789 - accuracy: 0.9797\n",
            "Epoch 60: val_loss improved from 0.10499 to 0.10375, saving model to my_model1.h5\n",
            "5364/5364 [==============================] - 24s 4ms/step - loss: 0.0789 - accuracy: 0.9797 - val_loss: 0.1037 - val_accuracy: 0.9718\n",
            "Epoch 61/100\n",
            "5363/5364 [============================>.] - ETA: 0s - loss: 0.0774 - accuracy: 0.9798\n",
            "Epoch 61: val_loss improved from 0.10375 to 0.10094, saving model to my_model1.h5\n",
            "5364/5364 [==============================] - 27s 5ms/step - loss: 0.0774 - accuracy: 0.9798 - val_loss: 0.1009 - val_accuracy: 0.9724\n",
            "Epoch 62/100\n",
            "5361/5364 [============================>.] - ETA: 0s - loss: 0.0760 - accuracy: 0.9805\n",
            "Epoch 62: val_loss did not improve from 0.10094\n",
            "5364/5364 [==============================] - 24s 5ms/step - loss: 0.0760 - accuracy: 0.9805 - val_loss: 0.1014 - val_accuracy: 0.9726\n",
            "Epoch 63/100\n",
            "5357/5364 [============================>.] - ETA: 0s - loss: 0.0747 - accuracy: 0.9807\n",
            "Epoch 63: val_loss improved from 0.10094 to 0.09892, saving model to my_model1.h5\n",
            "5364/5364 [==============================] - 25s 5ms/step - loss: 0.0747 - accuracy: 0.9807 - val_loss: 0.0989 - val_accuracy: 0.9731\n",
            "Epoch 64/100\n",
            "5362/5364 [============================>.] - ETA: 0s - loss: 0.0735 - accuracy: 0.9809\n",
            "Epoch 64: val_loss improved from 0.09892 to 0.09826, saving model to my_model1.h5\n",
            "5364/5364 [==============================] - 24s 4ms/step - loss: 0.0735 - accuracy: 0.9809 - val_loss: 0.0983 - val_accuracy: 0.9734\n",
            "Epoch 65/100\n",
            "5354/5364 [============================>.] - ETA: 0s - loss: 0.0721 - accuracy: 0.9816\n",
            "Epoch 65: val_loss did not improve from 0.09826\n",
            "5364/5364 [==============================] - 25s 5ms/step - loss: 0.0722 - accuracy: 0.9816 - val_loss: 0.0987 - val_accuracy: 0.9738\n",
            "Epoch 66/100\n",
            "5358/5364 [============================>.] - ETA: 0s - loss: 0.0710 - accuracy: 0.9820\n",
            "Epoch 66: val_loss did not improve from 0.09826\n",
            "5364/5364 [==============================] - 25s 5ms/step - loss: 0.0710 - accuracy: 0.9820 - val_loss: 0.0998 - val_accuracy: 0.9731\n",
            "Epoch 67/100\n",
            "5361/5364 [============================>.] - ETA: 0s - loss: 0.0698 - accuracy: 0.9821\n",
            "Epoch 67: val_loss improved from 0.09826 to 0.09595, saving model to my_model1.h5\n",
            "5364/5364 [==============================] - 25s 5ms/step - loss: 0.0698 - accuracy: 0.9821 - val_loss: 0.0959 - val_accuracy: 0.9744\n",
            "Epoch 68/100\n",
            "5363/5364 [============================>.] - ETA: 0s - loss: 0.0686 - accuracy: 0.9826\n",
            "Epoch 68: val_loss improved from 0.09595 to 0.09491, saving model to my_model1.h5\n",
            "5364/5364 [==============================] - 25s 5ms/step - loss: 0.0686 - accuracy: 0.9826 - val_loss: 0.0949 - val_accuracy: 0.9750\n",
            "Epoch 69/100\n",
            "5362/5364 [============================>.] - ETA: 0s - loss: 0.0673 - accuracy: 0.9827\n",
            "Epoch 69: val_loss improved from 0.09491 to 0.09464, saving model to my_model1.h5\n",
            "5364/5364 [==============================] - 24s 4ms/step - loss: 0.0674 - accuracy: 0.9827 - val_loss: 0.0946 - val_accuracy: 0.9745\n",
            "Epoch 70/100\n",
            "5355/5364 [============================>.] - ETA: 0s - loss: 0.0662 - accuracy: 0.9833\n",
            "Epoch 70: val_loss improved from 0.09464 to 0.09270, saving model to my_model1.h5\n",
            "5364/5364 [==============================] - 26s 5ms/step - loss: 0.0661 - accuracy: 0.9833 - val_loss: 0.0927 - val_accuracy: 0.9752\n",
            "Epoch 71/100\n",
            "5360/5364 [============================>.] - ETA: 0s - loss: 0.0650 - accuracy: 0.9836\n",
            "Epoch 71: val_loss improved from 0.09270 to 0.09196, saving model to my_model1.h5\n",
            "5364/5364 [==============================] - 26s 5ms/step - loss: 0.0651 - accuracy: 0.9836 - val_loss: 0.0920 - val_accuracy: 0.9757\n",
            "Epoch 72/100\n",
            "5361/5364 [============================>.] - ETA: 0s - loss: 0.0640 - accuracy: 0.9840\n",
            "Epoch 72: val_loss improved from 0.09196 to 0.09132, saving model to my_model1.h5\n",
            "5364/5364 [==============================] - 25s 5ms/step - loss: 0.0640 - accuracy: 0.9840 - val_loss: 0.0913 - val_accuracy: 0.9749\n",
            "Epoch 73/100\n",
            "5358/5364 [============================>.] - ETA: 0s - loss: 0.0629 - accuracy: 0.9840\n",
            "Epoch 73: val_loss improved from 0.09132 to 0.09106, saving model to my_model1.h5\n",
            "5364/5364 [==============================] - 25s 5ms/step - loss: 0.0629 - accuracy: 0.9840 - val_loss: 0.0911 - val_accuracy: 0.9758\n",
            "Epoch 74/100\n",
            "5363/5364 [============================>.] - ETA: 0s - loss: 0.0619 - accuracy: 0.9844\n",
            "Epoch 74: val_loss improved from 0.09106 to 0.08915, saving model to my_model1.h5\n",
            "5364/5364 [==============================] - 23s 4ms/step - loss: 0.0619 - accuracy: 0.9844 - val_loss: 0.0891 - val_accuracy: 0.9760\n",
            "Epoch 75/100\n",
            "5364/5364 [==============================] - ETA: 0s - loss: 0.0608 - accuracy: 0.9848\n",
            "Epoch 75: val_loss improved from 0.08915 to 0.08913, saving model to my_model1.h5\n",
            "5364/5364 [==============================] - 26s 5ms/step - loss: 0.0608 - accuracy: 0.9848 - val_loss: 0.0891 - val_accuracy: 0.9765\n",
            "Epoch 76/100\n",
            "5361/5364 [============================>.] - ETA: 0s - loss: 0.0598 - accuracy: 0.9852\n",
            "Epoch 76: val_loss improved from 0.08913 to 0.08741, saving model to my_model1.h5\n",
            "5364/5364 [==============================] - 25s 5ms/step - loss: 0.0598 - accuracy: 0.9852 - val_loss: 0.0874 - val_accuracy: 0.9771\n",
            "Epoch 77/100\n",
            "5361/5364 [============================>.] - ETA: 0s - loss: 0.0588 - accuracy: 0.9853\n",
            "Epoch 77: val_loss improved from 0.08741 to 0.08696, saving model to my_model1.h5\n",
            "5364/5364 [==============================] - 25s 5ms/step - loss: 0.0588 - accuracy: 0.9853 - val_loss: 0.0870 - val_accuracy: 0.9767\n",
            "Epoch 78/100\n",
            "5358/5364 [============================>.] - ETA: 0s - loss: 0.0577 - accuracy: 0.9856\n",
            "Epoch 78: val_loss improved from 0.08696 to 0.08593, saving model to my_model1.h5\n",
            "5364/5364 [==============================] - 25s 5ms/step - loss: 0.0578 - accuracy: 0.9856 - val_loss: 0.0859 - val_accuracy: 0.9775\n",
            "Epoch 79/100\n",
            "5360/5364 [============================>.] - ETA: 0s - loss: 0.0568 - accuracy: 0.9859\n",
            "Epoch 79: val_loss did not improve from 0.08593\n",
            "5364/5364 [==============================] - 25s 5ms/step - loss: 0.0568 - accuracy: 0.9859 - val_loss: 0.0875 - val_accuracy: 0.9763\n",
            "Epoch 80/100\n",
            "5364/5364 [==============================] - ETA: 0s - loss: 0.0559 - accuracy: 0.9863\n",
            "Epoch 80: val_loss improved from 0.08593 to 0.08507, saving model to my_model1.h5\n",
            "5364/5364 [==============================] - 25s 5ms/step - loss: 0.0559 - accuracy: 0.9863 - val_loss: 0.0851 - val_accuracy: 0.9773\n",
            "Epoch 81/100\n",
            "5353/5364 [============================>.] - ETA: 0s - loss: 0.0549 - accuracy: 0.9864\n",
            "Epoch 81: val_loss improved from 0.08507 to 0.08447, saving model to my_model1.h5\n",
            "5364/5364 [==============================] - 25s 5ms/step - loss: 0.0549 - accuracy: 0.9864 - val_loss: 0.0845 - val_accuracy: 0.9778\n",
            "Epoch 82/100\n",
            "5364/5364 [==============================] - ETA: 0s - loss: 0.0540 - accuracy: 0.9869\n",
            "Epoch 82: val_loss did not improve from 0.08447\n",
            "5364/5364 [==============================] - 25s 5ms/step - loss: 0.0540 - accuracy: 0.9869 - val_loss: 0.0849 - val_accuracy: 0.9775\n",
            "Epoch 83/100\n",
            "5358/5364 [============================>.] - ETA: 0s - loss: 0.0531 - accuracy: 0.9872\n",
            "Epoch 83: val_loss improved from 0.08447 to 0.08428, saving model to my_model1.h5\n",
            "5364/5364 [==============================] - 25s 5ms/step - loss: 0.0531 - accuracy: 0.9872 - val_loss: 0.0843 - val_accuracy: 0.9776\n",
            "Epoch 84/100\n",
            "5355/5364 [============================>.] - ETA: 0s - loss: 0.0522 - accuracy: 0.9874\n",
            "Epoch 84: val_loss improved from 0.08428 to 0.08264, saving model to my_model1.h5\n",
            "5364/5364 [==============================] - 26s 5ms/step - loss: 0.0522 - accuracy: 0.9874 - val_loss: 0.0826 - val_accuracy: 0.9778\n",
            "Epoch 85/100\n",
            "5359/5364 [============================>.] - ETA: 0s - loss: 0.0514 - accuracy: 0.9877\n",
            "Epoch 85: val_loss improved from 0.08264 to 0.08180, saving model to my_model1.h5\n",
            "5364/5364 [==============================] - 25s 5ms/step - loss: 0.0514 - accuracy: 0.9877 - val_loss: 0.0818 - val_accuracy: 0.9783\n",
            "Epoch 86/100\n",
            "5356/5364 [============================>.] - ETA: 0s - loss: 0.0505 - accuracy: 0.9878\n",
            "Epoch 86: val_loss did not improve from 0.08180\n",
            "5364/5364 [==============================] - 24s 5ms/step - loss: 0.0505 - accuracy: 0.9878 - val_loss: 0.0825 - val_accuracy: 0.9777\n",
            "Epoch 87/100\n",
            "5355/5364 [============================>.] - ETA: 0s - loss: 0.0496 - accuracy: 0.9880\n",
            "Epoch 87: val_loss improved from 0.08180 to 0.08105, saving model to my_model1.h5\n",
            "5364/5364 [==============================] - 26s 5ms/step - loss: 0.0497 - accuracy: 0.9880 - val_loss: 0.0810 - val_accuracy: 0.9787\n",
            "Epoch 88/100\n",
            "5355/5364 [============================>.] - ETA: 0s - loss: 0.0488 - accuracy: 0.9884\n",
            "Epoch 88: val_loss improved from 0.08105 to 0.08099, saving model to my_model1.h5\n",
            "5364/5364 [==============================] - 24s 4ms/step - loss: 0.0488 - accuracy: 0.9884 - val_loss: 0.0810 - val_accuracy: 0.9785\n",
            "Epoch 89/100\n",
            "5364/5364 [==============================] - ETA: 0s - loss: 0.0479 - accuracy: 0.9886\n",
            "Epoch 89: val_loss did not improve from 0.08099\n",
            "5364/5364 [==============================] - 26s 5ms/step - loss: 0.0479 - accuracy: 0.9886 - val_loss: 0.0814 - val_accuracy: 0.9789\n",
            "Epoch 90/100\n",
            "5358/5364 [============================>.] - ETA: 0s - loss: 0.0472 - accuracy: 0.9889\n",
            "Epoch 90: val_loss improved from 0.08099 to 0.07938, saving model to my_model1.h5\n",
            "5364/5364 [==============================] - 25s 5ms/step - loss: 0.0472 - accuracy: 0.9889 - val_loss: 0.0794 - val_accuracy: 0.9786\n",
            "Epoch 91/100\n",
            "5353/5364 [============================>.] - ETA: 0s - loss: 0.0464 - accuracy: 0.9890\n",
            "Epoch 91: val_loss improved from 0.07938 to 0.07884, saving model to my_model1.h5\n",
            "5364/5364 [==============================] - 25s 5ms/step - loss: 0.0464 - accuracy: 0.9890 - val_loss: 0.0788 - val_accuracy: 0.9789\n",
            "Epoch 92/100\n",
            "5360/5364 [============================>.] - ETA: 0s - loss: 0.0456 - accuracy: 0.9893\n",
            "Epoch 92: val_loss did not improve from 0.07884\n",
            "5364/5364 [==============================] - 25s 5ms/step - loss: 0.0456 - accuracy: 0.9893 - val_loss: 0.0796 - val_accuracy: 0.9782\n",
            "Epoch 93/100\n",
            "5356/5364 [============================>.] - ETA: 0s - loss: 0.0448 - accuracy: 0.9895\n",
            "Epoch 93: val_loss improved from 0.07884 to 0.07803, saving model to my_model1.h5\n",
            "5364/5364 [==============================] - 24s 5ms/step - loss: 0.0448 - accuracy: 0.9895 - val_loss: 0.0780 - val_accuracy: 0.9787\n",
            "Epoch 94/100\n",
            "5352/5364 [============================>.] - ETA: 0s - loss: 0.0440 - accuracy: 0.9897\n",
            "Epoch 94: val_loss did not improve from 0.07803\n",
            "5364/5364 [==============================] - 25s 5ms/step - loss: 0.0440 - accuracy: 0.9897 - val_loss: 0.0827 - val_accuracy: 0.9770\n",
            "Epoch 95/100\n",
            "5356/5364 [============================>.] - ETA: 0s - loss: 0.0433 - accuracy: 0.9900\n",
            "Epoch 95: val_loss improved from 0.07803 to 0.07728, saving model to my_model1.h5\n",
            "5364/5364 [==============================] - 25s 5ms/step - loss: 0.0433 - accuracy: 0.9900 - val_loss: 0.0773 - val_accuracy: 0.9794\n",
            "Epoch 96/100\n",
            "5359/5364 [============================>.] - ETA: 0s - loss: 0.0425 - accuracy: 0.9901\n",
            "Epoch 96: val_loss improved from 0.07728 to 0.07656, saving model to my_model1.h5\n",
            "5364/5364 [==============================] - 25s 5ms/step - loss: 0.0425 - accuracy: 0.9901 - val_loss: 0.0766 - val_accuracy: 0.9795\n",
            "Epoch 97/100\n",
            "5360/5364 [============================>.] - ETA: 0s - loss: 0.0418 - accuracy: 0.9903\n",
            "Epoch 97: val_loss improved from 0.07656 to 0.07471, saving model to my_model1.h5\n",
            "5364/5364 [==============================] - 25s 5ms/step - loss: 0.0418 - accuracy: 0.9903 - val_loss: 0.0747 - val_accuracy: 0.9808\n",
            "Epoch 98/100\n",
            "5363/5364 [============================>.] - ETA: 0s - loss: 0.0412 - accuracy: 0.9906\n",
            "Epoch 98: val_loss did not improve from 0.07471\n",
            "5364/5364 [==============================] - 25s 5ms/step - loss: 0.0412 - accuracy: 0.9906 - val_loss: 0.0751 - val_accuracy: 0.9800\n",
            "Epoch 99/100\n",
            "5361/5364 [============================>.] - ETA: 0s - loss: 0.0404 - accuracy: 0.9907\n",
            "Epoch 99: val_loss improved from 0.07471 to 0.07426, saving model to my_model1.h5\n",
            "5364/5364 [==============================] - 25s 5ms/step - loss: 0.0404 - accuracy: 0.9907 - val_loss: 0.0743 - val_accuracy: 0.9807\n",
            "Epoch 100/100\n",
            "5355/5364 [============================>.] - ETA: 0s - loss: 0.0397 - accuracy: 0.9910\n",
            "Epoch 100: val_loss improved from 0.07426 to 0.07384, saving model to my_model1.h5\n",
            "5364/5364 [==============================] - 25s 5ms/step - loss: 0.0397 - accuracy: 0.9910 - val_loss: 0.0738 - val_accuracy: 0.9806\n"
          ]
        }
      ]
    },
    {
      "cell_type": "code",
      "source": [
        "print(model1.summary())"
      ],
      "metadata": {
        "colab": {
          "base_uri": "https://localhost:8080/"
        },
        "id": "xbWSde-s93aC",
        "outputId": "d09cfb1e-0b65-4abe-81c5-31f716a8b321"
      },
      "execution_count": null,
      "outputs": [
        {
          "output_type": "stream",
          "name": "stdout",
          "text": [
            "Model: \"sequential_2\"\n",
            "_________________________________________________________________\n",
            " Layer (type)                Output Shape              Param #   \n",
            "=================================================================\n",
            " dense_10 (Dense)            (None, 784)               615440    \n",
            "                                                                 \n",
            " dense_11 (Dense)            (None, 128)               100480    \n",
            "                                                                 \n",
            " dense_12 (Dense)            (None, 128)               16512     \n",
            "                                                                 \n",
            " dense_13 (Dense)            (None, 128)               16512     \n",
            "                                                                 \n",
            " dense_14 (Dense)            (None, 26)                3354      \n",
            "                                                                 \n",
            "=================================================================\n",
            "Total params: 752298 (2.87 MB)\n",
            "Trainable params: 752298 (2.87 MB)\n",
            "Non-trainable params: 0 (0.00 Byte)\n",
            "_________________________________________________________________\n",
            "None\n"
          ]
        }
      ]
    },
    {
      "cell_type": "code",
      "source": [
        "print(\"The validation accuracy is :\", history1.history['val_accuracy'][-1])\n",
        "print(\"The training accuracy is :\", history1.history['accuracy'][-1])\n",
        "print(\"The validation loss is :\", history1.history['val_loss'][-1])\n",
        "print(\"The training loss is :\", history1.history['loss'][-1])"
      ],
      "metadata": {
        "colab": {
          "base_uri": "https://localhost:8080/"
        },
        "id": "oPj7D6wZ93We",
        "outputId": "3409b322-3715-4c62-e9c0-32b6bbd92fd4"
      },
      "execution_count": null,
      "outputs": [
        {
          "output_type": "stream",
          "name": "stdout",
          "text": [
            "The validation accuracy is : 0.9805678725242615\n",
            "The training accuracy is : 0.9910129904747009\n",
            "The validation loss is : 0.07384182512760162\n",
            "The training loss is : 0.03973217308521271\n"
          ]
        }
      ]
    },
    {
      "cell_type": "code",
      "source": [
        "test_loss, test_accuracy = model1.evaluate(test_images, ytest)\n",
        "print(f'Test Accuracy: {test_accuracy}')"
      ],
      "metadata": {
        "colab": {
          "base_uri": "https://localhost:8080/"
        },
        "id": "g_HhbK8693Ub",
        "outputId": "61efbe59-d0a4-447d-ff68-ef708776ebd7"
      },
      "execution_count": null,
      "outputs": [
        {
          "output_type": "stream",
          "name": "stdout",
          "text": [
            "2328/2328 [==============================] - 6s 3ms/step - loss: 0.0772 - accuracy: 0.9795\n",
            "Test Accuracy: 0.9795005917549133\n"
          ]
        }
      ]
    },
    {
      "cell_type": "code",
      "source": [
        "def plotgraph(epochs, acc, val_acc):\n",
        "    # Plot training & validation accuracy values\n",
        "    plt.plot(epochs, acc, 'b')\n",
        "    plt.plot(epochs, val_acc, 'r')\n",
        "    plt.title('Model accuracy')\n",
        "    plt.ylabel('Accuracy')\n",
        "    plt.xlabel('Epoch')\n",
        "    plt.legend(['Train', 'Val'], loc='upper left')\n",
        "    plt.show()\n",
        "\n",
        "acc = history1.history['accuracy']\n",
        "val_acc = history1.history['val_accuracy']\n",
        "loss = history1.history['loss']\n",
        "val_loss = history1.history['val_loss']\n",
        "epochs = range(1,len(acc)+1)"
      ],
      "metadata": {
        "id": "w1nNK1Tw93Mi"
      },
      "execution_count": null,
      "outputs": []
    },
    {
      "cell_type": "code",
      "source": [
        "plotgraph(epochs, acc, val_acc)"
      ],
      "metadata": {
        "colab": {
          "base_uri": "https://localhost:8080/",
          "height": 472
        },
        "id": "pl2O0wEz_Db9",
        "outputId": "b674b038-39b0-48e9-9696-f08029013b58"
      },
      "execution_count": null,
      "outputs": [
        {
          "output_type": "display_data",
          "data": {
            "text/plain": [
              "<Figure size 640x480 with 1 Axes>"
            ],
            "image/png": "[encoded data removed]"
          },
          "metadata": {}
        }
      ]
    },
    {
      "cell_type": "code",
      "source": [
        "# Plot training & validation loss values\n",
        "plt.plot(history1.history['loss'])\n",
        "plt.plot(history1.history['val_loss'])\n",
        "plt.title('Model loss')\n",
        "plt.xlabel('Epoch')\n",
        "plt.ylabel('Loss')\n",
        "plt.legend(['Train', 'Validation'], loc='upper left')\n",
        "plt.show()"
      ],
      "metadata": {
        "colab": {
          "base_uri": "https://localhost:8080/",
          "height": 472
        },
        "id": "82zOGvCx_F0w",
        "outputId": "f1c5d499-a9f7-4d14-97d7-c471a254a4c4"
      },
      "execution_count": null,
      "outputs": [
        {
          "output_type": "display_data",
          "data": {
            "text/plain": [
              "<Figure size 640x480 with 1 Axes>"
            ],
            "image/png": "[encoded data removed]"
          },
          "metadata": {}
        }
      ]
    },
    {
      "cell_type": "markdown",
      "source": [
        "#Prediction"
      ],
      "metadata": {
        "id": "leMUSejdndF2"
      }
    },
    {
      "cell_type": "code",
      "source": [
        "from keras.models import load_model\n",
        "model_path = '/content/my_model1.h5'\n",
        "loaded_model = load_model(model_path)"
      ],
      "metadata": {
        "id": "5EzlbPxcvlpU"
      },
      "execution_count": 15,
      "outputs": []
    },
    {
      "cell_type": "code",
      "source": [
        "loaded_model.load_weights(\"/content/my_model1.h5\")"
      ],
      "metadata": {
        "id": "lliqvWL6Cl-P"
      },
      "execution_count": 17,
      "outputs": []
    },
    {
      "cell_type": "code",
      "source": [
        "test_images = X_val[2384:2388]\n",
        "test_images = test_images.reshape(test_images.shape[0], 28, 28)\n",
        "\n",
        "for i, test_image in enumerate(test_images, start=1):\n",
        "    org_image = test_image\n",
        "    test_image = test_image.reshape(1, 784)\n",
        "    prediction = np.argmax(loaded_model.predict(test_image), axis=1)\n",
        "\n",
        "    letter = word_dict[prediction[0]]\n",
        "    print(\"The letter is - {}\".format(letter))\n",
        "\n",
        "    plt.subplot(2, 2, i)\n",
        "    plt.imshow(org_image, cmap=plt.cm.gray)\n",
        "    plt.title(\"Predicted: {}\".format(letter))\n",
        "    plt.axis('off')\n",
        "\n",
        "plt.show()"
      ],
      "metadata": {
        "colab": {
          "base_uri": "https://localhost:8080/",
          "height": 567
        },
        "id": "VSiMaN85FD3q",
        "outputId": "f9396897-83f2-4aae-fe94-deb786982259"
      },
      "execution_count": 18,
      "outputs": [
        {
          "output_type": "stream",
          "name": "stdout",
          "text": [
            "1/1 [==============================] - 0s 152ms/step\n",
            "The letter is - Y\n",
            "1/1 [==============================] - 0s 23ms/step\n",
            "The letter is - U\n",
            "1/1 [==============================] - 0s 18ms/step\n",
            "The letter is - E\n",
            "1/1 [==============================] - 0s 20ms/step\n",
            "The letter is - U\n"
          ]
        },
        {
          "output_type": "display_data",
          "data": {
            "text/plain": [
              "<Figure size 640x480 with 4 Axes>"
            ],
            "image/png": "[encoded data removed]"
          },
          "metadata": {}
        }
      ]
    },
    {
      "cell_type": "code",
      "source": [
        "import cv2\n",
        "import matplotlib.pyplot as plt\n",
        "\n",
        "def invert_colors(image_path):\n",
        "    # Read the image\n",
        "    img = cv2.imread(image_path)\n",
        "\n",
        "    # Convert the image to grayscale\n",
        "    gray_img = cv2.cvtColor(img, cv2.COLOR_BGR2GRAY)\n",
        "\n",
        "    # Invert the colors\n",
        "    inverted_img = cv2.bitwise_not(gray_img)\n",
        "\n",
        "    return inverted_img\n",
        "\n",
        "# Path to your image\n",
        "image_path = \"/content/SS.png\"\n",
        "\n",
        "# Invert colors\n",
        "inverted_image = invert_colors(image_path)\n",
        "\n",
        "# Display the original and inverted images\n",
        "plt.figure(figsize=(8, 4))\n",
        "plt.subplot(1, 2, 1)\n",
        "plt.imshow(cv2.cvtColor(cv2.imread(image_path), cv2.COLOR_BGR2RGB))\n",
        "plt.title(\"Original Image\")\n",
        "\n",
        "plt.subplot(1, 2, 2)\n",
        "plt.imshow(inverted_image, cmap='gray')\n",
        "plt.title(\"Inverted Colors\")\n",
        "\n",
        "plt.show()\n"
      ],
      "metadata": {
        "colab": {
          "base_uri": "https://localhost:8080/",
          "height": 369
        },
        "id": "AbZy_GbiLYxS",
        "outputId": "8ec870f8-da3a-4582-a9f2-620e34a6ee2d"
      },
      "execution_count": null,
      "outputs": [
        {
          "output_type": "display_data",
          "data": {
            "text/plain": [
              "<Figure size 800x400 with 2 Axes>"
            ],
            "image/png": "[encoded data removed]"
          },
          "metadata": {}
        }
      ]
    },
    {
      "cell_type": "code",
      "source": [
        "import cv2\n",
        "import numpy as np\n",
        "import tensorflow as tf\n",
        "import matplotlib.pyplot as plt\n",
        "\n",
        "def should_invert_colors(image):\n",
        "    # Check if the image has a non-black background and white letters\n",
        "    avg_color = np.mean(image)\n",
        "    return avg_color > 100  # You can adjust this threshold as needed\n",
        "\n",
        "def invert_colors(image):\n",
        "    return cv2.bitwise_not(image)\n",
        "\n",
        "def preprocess_image(image_path):\n",
        "    # Read the image\n",
        "    img = cv2.imread(image_path)\n",
        "\n",
        "    # Convert the image to grayscale\n",
        "    gray_img = cv2.cvtColor(img, cv2.COLOR_BGR2GRAY)\n",
        "\n",
        "    # Check if colors should be inverted\n",
        "    if should_invert_colors(gray_img):\n",
        "        gray_img = invert_colors(gray_img)\n",
        "\n",
        "    # Resize the image to match your model's input size\n",
        "    resized_img = cv2.resize(gray_img, (28, 28))\n",
        "\n",
        "    # Flatten to 1D and normalize pixel values\n",
        "    flattened_img = resized_img.reshape(1, 784).astype('float32') / 255.0\n",
        "\n",
        "    return flattened_img\n",
        "\n",
        "image_path = \"/content/e.png\"\n",
        "\n",
        "input_image = preprocess_image(image_path)\n",
        "\n",
        "\n",
        "predicted_class = np.argmax(loaded_model.predict(input_image), axis=1)\n",
        "predicted_letter = word_dict[predicted_class[0]]\n",
        "\n",
        "\n",
        "plt.imshow(input_image.reshape(28, 28), cmap='gray')\n",
        "plt.title(f\"The Letter is : {predicted_letter}\")\n",
        "plt.show()\n"
      ],
      "metadata": {
        "colab": {
          "base_uri": "https://localhost:8080/",
          "height": 469
        },
        "id": "I53rA3cYPjo9",
        "outputId": "234dd418-d128-420f-91c6-d05a70e3d4b6"
      },
      "execution_count": 34,
      "outputs": [
        {
          "output_type": "stream",
          "name": "stdout",
          "text": [
            "1/1 [==============================] - 0s 56ms/step\n"
          ]
        },
        {
          "output_type": "display_data",
          "data": {
            "text/plain": [
              "<Figure size 640x480 with 1 Axes>"
            ],
            "image/png": "[encoded data removed]"
          },
          "metadata": {}
        }
      ]
    }
  ]
}